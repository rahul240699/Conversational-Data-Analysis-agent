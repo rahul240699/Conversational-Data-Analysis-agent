{
 "cells": [
  {
   "cell_type": "code",
   "execution_count": 1,
   "id": "9e4471d1",
   "metadata": {},
   "outputs": [
    {
     "name": "stdout",
     "output_type": "stream",
     "text": [
      "{'type': 'number', 'value': 179700.0}\n",
      ">> PANDAS AI: 179700.0\n"
     ]
    }
   ],
   "source": [
    "import os\n",
    "import pandas as pd\n",
    "from pandasai import SmartDataframe\n",
    "from pandasai.llm.openai import OpenAI\n",
    "from dotenv import load_dotenv\n",
    "from pathlib import Path\n",
    "\n",
    "load_dotenv()\n",
    "\n",
    "# load housing data\n",
    "data = Path(\"./data/housing.csv\")\n",
    "df = pd.read_csv(data)\n",
    "\n",
    "llm = OpenAI(api_token=os.getenv(\"OPENAI_API_KEY\"))\n",
    "sdf = SmartDataframe(df, config={\"llm\": llm})\n",
    "\n",
    "prompt = \"What's the median value of median_house_value?\"\n",
    "result = sdf.chat(prompt)\n",
    "\n",
    "print(f\">> PANDAS AI: {result}\")"
   ]
  },
  {
   "cell_type": "code",
   "execution_count": 2,
   "id": "be7ad874",
   "metadata": {},
   "outputs": [
    {
     "name": "stdout",
     "output_type": "stream",
     "text": [
      "{'type': 'number', 'value': -0.024649678888894903}\n",
      "** PANDAS AI: -0.024649678888894903\n"
     ]
    }
   ],
   "source": [
    "prompt = \"how much is the correlation between population and median house value?\"\n",
    "response = sdf.chat(prompt)\n",
    "print(f\"** PANDAS AI: {response}\")\n",
    "\n",
    "## output\n",
    "# ** PANDAS AI: The correlation between population and median house value is very weak, with a value of -0.02464967888889502"
   ]
  },
  {
   "cell_type": "code",
   "execution_count": 3,
   "id": "93802d65",
   "metadata": {},
   "outputs": [
    {
     "name": "stdout",
     "output_type": "stream",
     "text": [
      "** PANDAS AI: /Users/rahulsohandani/Desktop/conversational-analysis-chatbot/exports/charts/temp_chart.png\n"
     ]
    }
   ],
   "source": [
    "prompt = \"plot the histogram for this dataset for median_income\"\n",
    "response = sdf.chat(prompt)\n",
    "print(f\"** PANDAS AI: {response}\")"
   ]
  },
  {
   "cell_type": "code",
   "execution_count": 4,
   "id": "b32d2fbc",
   "metadata": {},
   "outputs": [
    {
     "name": "stderr",
     "output_type": "stream",
     "text": [
      "2025-07-18 15:14:27.469 WARNING streamlit.runtime.scriptrunner_utils.script_run_context: Thread 'MainThread': missing ScriptRunContext! This warning can be ignored when running in bare mode.\n",
      "2025-07-18 15:14:27.471 WARNING streamlit.runtime.scriptrunner_utils.script_run_context: Thread 'MainThread': missing ScriptRunContext! This warning can be ignored when running in bare mode.\n",
      "2025-07-18 15:14:27.518 \n",
      "  \u001b[33m\u001b[1mWarning:\u001b[0m to view this Streamlit app on a browser, run it with the following\n",
      "  command:\n",
      "\n",
      "    streamlit run /Users/rahulsohandani/Desktop/conversational-analysis-chatbot/.venv/lib/python3.11/site-packages/ipykernel_launcher.py [ARGUMENTS]\n",
      "2025-07-18 15:14:27.518 Thread 'MainThread': missing ScriptRunContext! This warning can be ignored when running in bare mode.\n",
      "2025-07-18 15:14:27.518 Thread 'MainThread': missing ScriptRunContext! This warning can be ignored when running in bare mode.\n",
      "2025-07-18 15:14:27.519 Thread 'MainThread': missing ScriptRunContext! This warning can be ignored when running in bare mode.\n",
      "2025-07-18 15:14:27.519 Thread 'MainThread': missing ScriptRunContext! This warning can be ignored when running in bare mode.\n",
      "2025-07-18 15:14:27.520 Thread 'MainThread': missing ScriptRunContext! This warning can be ignored when running in bare mode.\n",
      "2025-07-18 15:14:27.522 Thread 'MainThread': missing ScriptRunContext! This warning can be ignored when running in bare mode.\n",
      "2025-07-18 15:14:27.523 Thread 'MainThread': missing ScriptRunContext! This warning can be ignored when running in bare mode.\n",
      "2025-07-18 15:14:27.524 Thread 'MainThread': missing ScriptRunContext! This warning can be ignored when running in bare mode.\n",
      "2025-07-18 15:14:27.528 Thread 'MainThread': missing ScriptRunContext! This warning can be ignored when running in bare mode.\n",
      "2025-07-18 15:14:27.529 Thread 'MainThread': missing ScriptRunContext! This warning can be ignored when running in bare mode.\n",
      "2025-07-18 15:14:27.529 Thread 'MainThread': missing ScriptRunContext! This warning can be ignored when running in bare mode.\n",
      "2025-07-18 15:14:27.529 Thread 'MainThread': missing ScriptRunContext! This warning can be ignored when running in bare mode.\n",
      "2025-07-18 15:14:27.530 Session state does not function when running a script without `streamlit run`\n",
      "2025-07-18 15:14:27.530 Thread 'MainThread': missing ScriptRunContext! This warning can be ignored when running in bare mode.\n",
      "2025-07-18 15:14:27.530 Thread 'MainThread': missing ScriptRunContext! This warning can be ignored when running in bare mode.\n",
      "2025-07-18 15:14:27.531 Thread 'MainThread': missing ScriptRunContext! This warning can be ignored when running in bare mode.\n",
      "2025-07-18 15:14:27.531 Thread 'MainThread': missing ScriptRunContext! This warning can be ignored when running in bare mode.\n",
      "2025-07-18 15:14:27.531 Thread 'MainThread': missing ScriptRunContext! This warning can be ignored when running in bare mode.\n",
      "2025-07-18 15:14:27.532 Thread 'MainThread': missing ScriptRunContext! This warning can be ignored when running in bare mode.\n"
     ]
    }
   ],
   "source": [
    "import streamlit as st\n",
    "import pandas as pd\n",
    "from pandasai import SmartDataframe\n",
    "from pandasai.llm.openai import OpenAI\n",
    "from dotenv import load_dotenv\n",
    "import os\n",
    "from pathlib import Path\n",
    "\n",
    "# Optional: For vector store/RAG\n",
    "# from langchain.vectorstores import FAISS\n",
    "# from langchain.embeddings.openai import OpenAIEmbeddings\n",
    "\n",
    "load_dotenv()\n",
    "\n",
    "st.set_page_config(page_title=\"Conversational Data Analysis Agent\", layout=\"wide\")\n",
    "st.title(\"Conversational Data Analysis Agent 🧑‍💻\")\n",
    "\n",
    "# Sidebar for file upload\n",
    "st.sidebar.header(\"Upload your dataset\")\n",
    "uploaded_file = st.sidebar.file_uploader(\"Choose a CSV file\", type=[\"csv\"])\n",
    "\n",
    "# Session state for conversation\n",
    "if \"history\" not in st.session_state:\n",
    "    st.session_state.history = []\n",
    "\n",
    "# DataFrame placeholder\n",
    "df = None\n",
    "sdf = None\n",
    "\n",
    "if uploaded_file is not None:\n",
    "    df = pd.read_csv(uploaded_file)\n",
    "    st.write(\"### Preview of your data:\")\n",
    "    st.dataframe(df.head())\n",
    "    llm = OpenAI(api_token=os.getenv(\"OPENAI_API_KEY\"))\n",
    "    sdf = SmartDataframe(df, config={\"llm\": llm})\n",
    "    # Optional: Vector store setup (e.g., FAISS/Chroma)\n",
    "    # embeddings = OpenAIEmbeddings()\n",
    "    # vectorstore = FAISS.from_documents([...], embeddings)\n",
    "else:\n",
    "    st.info(\"Please upload a CSV file to get started.\")\n",
    "\n",
    "# User prompt input\n",
    "if sdf is not None:\n",
    "    user_prompt = st.text_input(\"Ask a question about your data:\")\n",
    "    if st.button(\"Submit\") and user_prompt:\n",
    "        with st.spinner(\"Thinking...\"):\n",
    "            result = sdf.chat(user_prompt)\n",
    "            st.session_state.history.append((user_prompt, result))\n",
    "        st.write(f\"**You:** {user_prompt}\")\n",
    "        st.write(f\"**Agent:** {result}\")\n",
    "\n",
    "# Conversation history workspace\n",
    "if st.session_state.history:\n",
    "    st.write(\"---\")\n",
    "    st.write(\"### Conversation History\")\n",
    "    for i, (q, a) in enumerate(st.session_state.history[::-1]):\n",
    "        st.markdown(f\"**Q{i+1}:** {q}\")\n",
    "        st.markdown(f\"**A{i+1}:** {a}\")\n"
   ]
  }
 ],
 "metadata": {
  "kernelspec": {
   "display_name": ".venv",
   "language": "python",
   "name": "python3"
  },
  "language_info": {
   "codemirror_mode": {
    "name": "ipython",
    "version": 3
   },
   "file_extension": ".py",
   "mimetype": "text/x-python",
   "name": "python",
   "nbconvert_exporter": "python",
   "pygments_lexer": "ipython3",
   "version": "3.11.5"
  }
 },
 "nbformat": 4,
 "nbformat_minor": 5
}
