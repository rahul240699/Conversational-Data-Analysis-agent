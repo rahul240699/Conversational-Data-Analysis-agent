{
 "cells": [
  {
   "cell_type": "code",
   "execution_count": 2,
   "id": "9e4471d1",
   "metadata": {},
   "outputs": [
    {
     "name": "stdout",
     "output_type": "stream",
     "text": [
      "{'type': 'number', 'value': 179700.0}\n",
      ">> PANDAS AI: 179700.0\n"
     ]
    }
   ],
   "source": [
    "import os\n",
    "import pandas as pd\n",
    "from pandasai import SmartDataframe\n",
    "from pandasai.llm.openai import OpenAI\n",
    "from dotenv import load_dotenv\n",
    "from pathlib import Path\n",
    "\n",
    "load_dotenv()\n",
    "\n",
    "# load housing data\n",
    "data = Path(\"./data/housing.csv\")\n",
    "df = pd.read_csv(data)\n",
    "\n",
    "llm = OpenAI(api_token=os.getenv(\"OPENAI_API_KEY\"))\n",
    "sdf = SmartDataframe(df, config={\"llm\": llm})\n",
    "\n",
    "prompt = \"What's the median value of median_house_value?\"\n",
    "result = sdf.chat(prompt)\n",
    "\n",
    "print(f\">> PANDAS AI: {result}\")"
   ]
  },
  {
   "cell_type": "code",
   "execution_count": 6,
   "id": "be7ad874",
   "metadata": {},
   "outputs": [
    {
     "name": "stdout",
     "output_type": "stream",
     "text": [
      "{'type': 'number', 'value': -0.024649678888894903}\n",
      "** PANDAS AI: -0.024649678888894903\n"
     ]
    }
   ],
   "source": [
    "prompt = \"how much is the correlation between population and median house value?\"\n",
    "response = sdf.chat(prompt)\n",
    "print(f\"** PANDAS AI: {response}\")\n",
    "\n",
    "## output\n",
    "# ** PANDAS AI: The correlation between population and median house value is very weak, with a value of -0.02464967888889502"
   ]
  },
  {
   "cell_type": "code",
   "execution_count": 11,
   "id": "93802d65",
   "metadata": {},
   "outputs": [
    {
     "name": "stdout",
     "output_type": "stream",
     "text": [
      "** PANDAS AI: /Users/rahulsohandani/Desktop/conversational-analysis-chatbot/exports/charts/temp_chart.png\n"
     ]
    }
   ],
   "source": [
    "prompt = \"plot the histogram for this dataset for median_income\"\n",
    "response = sdf.chat(prompt)\n",
    "print(f\"** PANDAS AI: {response}\")"
   ]
  }
 ],
 "metadata": {
  "kernelspec": {
   "display_name": ".venv",
   "language": "python",
   "name": "python3"
  },
  "language_info": {
   "codemirror_mode": {
    "name": "ipython",
    "version": 3
   },
   "file_extension": ".py",
   "mimetype": "text/x-python",
   "name": "python",
   "nbconvert_exporter": "python",
   "pygments_lexer": "ipython3",
   "version": "3.11.5"
  }
 },
 "nbformat": 4,
 "nbformat_minor": 5
}
